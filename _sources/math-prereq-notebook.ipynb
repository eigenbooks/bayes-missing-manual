{
 "cells": [
  {
   "cell_type": "code",
   "execution_count": 13,
   "id": "subjective-athletics",
   "metadata": {},
   "outputs": [],
   "source": [
    "import numpy as np\n",
    "from myst_nb import glue"
   ]
  },
  {
   "cell_type": "code",
   "execution_count": 14,
   "id": "amber-county",
   "metadata": {},
   "outputs": [],
   "source": [
    "def ROM(n):\n",
    "    exact = np.log10(n)\n",
    "    rounded = np.floor(exact)\n",
    "    print(f'Exact: {exact}')\n",
    "    print(f'Rounded: {rounded}')\n",
    "    return exact, rounded"
   ]
  },
  {
   "cell_type": "code",
   "execution_count": 21,
   "id": "sharp-young",
   "metadata": {},
   "outputs": [
    {
     "name": "stdout",
     "output_type": "stream",
     "text": [
      "Exact: 2.093421685162235\n",
      "Rounded: 2.0\n"
     ]
    },
    {
     "data": {
      "application/papermill.record/text/plain": "2.093421685162235"
     },
     "metadata": {
      "scrapbook": {
       "mime_prefix": "application/papermill.record/",
       "name": "log124"
      }
     },
     "output_type": "display_data"
    },
    {
     "data": {
      "application/papermill.record/text/plain": "2.0"
     },
     "metadata": {
      "scrapbook": {
       "mime_prefix": "application/papermill.record/",
       "name": "log124_floor"
      }
     },
     "output_type": "display_data"
    }
   ],
   "source": [
    "log124, log124_floor = ROM(124)\n",
    "glue(\"log124\", log124, display=False)\n",
    "glue(\"log124_floor\", log124_floor, display=False)"
   ]
  },
  {
   "cell_type": "code",
   "execution_count": 23,
   "id": "compact-honolulu",
   "metadata": {},
   "outputs": [
    {
     "name": "stdout",
     "output_type": "stream",
     "text": [
      "Exact: 2.494154594018443\n",
      "Rounded: 2.0\n"
     ]
    },
    {
     "data": {
      "application/papermill.record/text/plain": "2.494154594018443"
     },
     "metadata": {
      "scrapbook": {
       "mime_prefix": "application/papermill.record/",
       "name": "log312"
      }
     },
     "output_type": "display_data"
    },
    {
     "data": {
      "application/papermill.record/text/plain": "2.0"
     },
     "metadata": {
      "scrapbook": {
       "mime_prefix": "application/papermill.record/",
       "name": "log312_floor"
      }
     },
     "output_type": "display_data"
    }
   ],
   "source": [
    "log312, log312_floor = ROM(312)\n",
    "glue(\"log312\", log312, display=False)\n",
    "glue(\"log312_floor\", log312_floor, display=False)"
   ]
  },
  {
   "cell_type": "code",
   "execution_count": 25,
   "id": "fatty-cross",
   "metadata": {},
   "outputs": [
    {
     "name": "stdout",
     "output_type": "stream",
     "text": [
      "Exact: 2.8457180179666586\n",
      "Rounded: 2.0\n"
     ]
    },
    {
     "data": {
      "application/papermill.record/text/plain": "2.8457180179666586"
     },
     "metadata": {
      "scrapbook": {
       "mime_prefix": "application/papermill.record/",
       "name": "log701"
      }
     },
     "output_type": "display_data"
    },
    {
     "data": {
      "application/papermill.record/text/plain": "2.0"
     },
     "metadata": {
      "scrapbook": {
       "mime_prefix": "application/papermill.record/",
       "name": "log701_floor"
      }
     },
     "output_type": "display_data"
    }
   ],
   "source": [
    "log701, log701_floor = ROM(701)\n",
    "glue(\"log701\", log701, display=False)\n",
    "glue(\"log701_floor\", log701_floor, display=False)"
   ]
  },
  {
   "cell_type": "code",
   "execution_count": null,
   "id": "french-hartford",
   "metadata": {},
   "outputs": [],
   "source": []
  }
 ],
 "metadata": {
  "kernelspec": {
   "display_name": "Python 3",
   "language": "python",
   "name": "python3"
  },
  "language_info": {
   "codemirror_mode": {
    "name": "ipython",
    "version": 3
   },
   "file_extension": ".py",
   "mimetype": "text/x-python",
   "name": "python",
   "nbconvert_exporter": "python",
   "pygments_lexer": "ipython3",
   "version": "3.8.7"
  }
 },
 "nbformat": 4,
 "nbformat_minor": 5
}
