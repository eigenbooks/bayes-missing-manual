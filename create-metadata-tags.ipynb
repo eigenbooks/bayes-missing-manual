{
 "cells": [
  {
   "cell_type": "code",
   "execution_count": 1,
   "id": "sudden-departure",
   "metadata": {},
   "outputs": [],
   "source": [
    "# Execute on command line: jupyter nbconvert --to notebook --execute book/Untitled.ipynb"
   ]
  },
  {
   "cell_type": "markdown",
   "id": "experienced-identity",
   "metadata": {},
   "source": [
    "# Create metadata tags for SEO\n",
    "This notebook deletes the metadata tags created by jupyterbook and adds custom tags"
   ]
  },
  {
   "cell_type": "code",
   "execution_count": 2,
   "id": "direct-waters",
   "metadata": {},
   "outputs": [],
   "source": [
    "from bs4 import BeautifulSoup\n",
    "import os\n",
    "from datetime import date\n",
    "\n",
    "# today's date in the format of YYYY-MM-DD\n",
    "today = date.today().strftime(\"%Y-%m-%d\")\n"
   ]
  },
  {
   "cell_type": "code",
   "execution_count": 3,
   "id": "comic-lawsuit",
   "metadata": {},
   "outputs": [],
   "source": [
    "def cleanUpTags():\n",
    "    \n",
    "    meta_tags = soup.find_all('meta', property=True)\n",
    "    \n",
    "    # remove meta tags with a property attribute\n",
    "    for tag in meta_tags:\n",
    "        #print(tag)\n",
    "        tag.decompose()\n",
    "        \n",
    "    # remove title tag\n",
    "    soup.title.decompose()\n",
    "    \n",
    "    # remove twitter card tag\n",
    "    meta_tags = soup.find('meta', content=\"summary\")\n",
    "    meta_tags.decompose()"
   ]
  },
  {
   "cell_type": "code",
   "execution_count": 4,
   "id": "reduced-clause",
   "metadata": {},
   "outputs": [],
   "source": [
    "def makeNewTags():\n",
    "    # title tag\n",
    "    title_tag = soup.new_tag('title')\n",
    "    title_tag.string = title\n",
    "    soup.head.append(title_tag)\n",
    "    \n",
    "    # title\n",
    "    # <meta content=\"Bayes Theorem - The Missing Manual\" name=\"title\" />\n",
    "    metatag = soup.new_tag('meta')\n",
    "    metatag.attrs['name'] = 'title'\n",
    "    metatag.attrs['content'] = title\n",
    "    soup.head.append(metatag)\n",
    "    \n",
    "    # description\n",
    "    # <meta content=\"A manual for using Bayes theorem to think with probabilities in everyday life\" lang=\"en\" name=\"description\" xml:lang=\"en\" />\n",
    "    metatag = soup.new_tag('meta')\n",
    "    metatag.attrs['name'] = 'description'\n",
    "    metatag.attrs['lang'] = 'en'\n",
    "    metatag.attrs['content'] = desc\n",
    "    soup.head.append(metatag)\n",
    "    \n",
    "    # keywords\n",
    "    # <meta content=\"Bayes, theorem, bayes theorem, odds, example, practical\" name=\"keywords\" />\n",
    "    metatag = soup.new_tag('meta')\n",
    "    metatag.attrs['name'] = 'keywords'\n",
    "    metatag.attrs['content'] = 'Bayes, bayes theorem, odds, example, practical'\n",
    "    soup.head.append(metatag)\n",
    "    \n",
    "    # og:locale\n",
    "    # <meta content=\"en_US\" property=\"og:locale\" />\n",
    "    metatag = soup.new_tag('meta')\n",
    "    metatag.attrs['property'] = 'og:locale'\n",
    "    metatag.attrs['content'] = 'en_US'\n",
    "    soup.head.append(metatag)\n",
    "    \n",
    "    # og:title\n",
    "    # <meta property=\"og:title\" content=\"Bayes Theorem - The Missing Manual\" />\n",
    "    metatag = soup.new_tag('meta')\n",
    "    metatag.attrs['property'] = 'og:title'\n",
    "    metatag.attrs['content'] = title\n",
    "    soup.head.append(metatag)\n",
    "    \n",
    "    # og:type\n",
    "    # <meta property=\"og:type\" content=\"website\" />\n",
    "    metatag = soup.new_tag('meta')\n",
    "    metatag.attrs['property'] = 'og:type'\n",
    "    metatag.attrs['content'] = 'website'\n",
    "    soup.head.append(metatag)\n",
    "    \n",
    "    # og:type\n",
    "    # <meta property=\"og:url\" content=\"https://bayesmanual.com/index.html\" />\n",
    "    metatag = soup.new_tag('meta')\n",
    "    metatag.attrs['property'] = 'og:url'\n",
    "    metatag.attrs['content'] = url\n",
    "    soup.head.append(metatag)\n",
    "    \n",
    "    # og:description\n",
    "    # <meta property=\"og:description\" content=\"Welcome to the missing manual for Bayes theorem users. This manual is designed to provide documentation for people who use - or want to use - Bayes theorem on a day-to-day basis. It covers a small ...\" />\n",
    "    metatag = soup.new_tag('meta')\n",
    "    metatag.attrs['property'] = 'og:description'\n",
    "    metatag.attrs['content'] = desc\n",
    "    soup.head.append(metatag)\n",
    "    \n",
    "    # og:image\n",
    "    # <meta property=\"og:image\" content=\"https://bayesmanual.com/plot.png\" />\n",
    "    metatag = soup.new_tag('meta')\n",
    "    metatag.attrs['property'] = 'og:image'\n",
    "    metatag.attrs['content'] = 'https://bayesmanual.com/plot.png'\n",
    "    soup.head.append(metatag)\n",
    "    \n",
    "    # og:image:alt\n",
    "    # <meta property=\"og:image:alt\" content=\"Bayes Theorem - The Missing Manual\" />\n",
    "    metatag = soup.new_tag('meta')\n",
    "    metatag.attrs['property'] = 'og:image:alt'\n",
    "    metatag.attrs['content'] = 'overlapping probability distributions logo'\n",
    "    soup.head.append(metatag)\n",
    "    \n",
    "    # twitter:card\n",
    "    # <meta property=\"twitter:card\" content=\"summary_large_image\">\n",
    "    metatag = soup.new_tag('meta')\n",
    "    metatag.attrs['property'] = 'twitter:card'\n",
    "    metatag.attrs['content'] = 'summary_large_image'\n",
    "    soup.head.append(metatag)\n",
    "\n",
    "    # twitter:url\n",
    "    # <meta property=\"twitter:url\" content=\"https://bayesmanual.com\">\n",
    "    metatag = soup.new_tag('meta')\n",
    "    metatag.attrs['property'] = 'twitter:url'\n",
    "    metatag.attrs['content'] = url\n",
    "    soup.head.append(metatag)\n",
    "    \n",
    "    # twitter:title\n",
    "    # <meta property=\"twitter:title\" content=\"Bayes Theorem - The Missing Manual\">\n",
    "    metatag = soup.new_tag('meta')\n",
    "    metatag.attrs['property'] = 'twitter:title'\n",
    "    metatag.attrs['content'] = title\n",
    "    soup.head.append(metatag)\n",
    "    \n",
    "    # twitter:description\n",
    "    # <meta property=\"twitter:description\" content=\"A manual for using Bayes theorem to think with probabilities in everyday life\">\n",
    "    metatag = soup.new_tag('meta')\n",
    "    metatag.attrs['property'] = 'twitter:description'\n",
    "    metatag.attrs['content'] = desc\n",
    "    soup.head.append(metatag)\n",
    "    \n",
    "    # twitter:image\n",
    "    # <meta property=\"twitter:image\" content=\"https://bayesmanual.com/plot.png\">\n",
    "    metatag = soup.new_tag('meta')\n",
    "    metatag.attrs['property'] = 'twitter:image'\n",
    "    metatag.attrs['content'] = 'https://bayesmanual.com/plot.png'\n",
    "    soup.head.append(metatag)\n",
    "    \n",
    "    # Global site tag (gtag.js) - Google Analytics\n",
    "\n",
    "    # <script async src='https://www.googletagmanager.com/gtag/js?id=G-KSWG418LQL'></script>\n",
    "    metatag = soup.new_tag('script')\n",
    "    metatag.attrs['async'] = None\n",
    "    metatag.attrs['src'] = 'https://www.googletagmanager.com/gtag/js?id=G-KSWG418LQL'\n",
    "    soup.head.append(metatag)\n",
    "\n",
    "    # <script>window.dataLayer = window.dataLayer || [];function gtag(){dataLayer.push(arguments);} gtag('js', new Date());gtag('config', 'G-KSWG418LQL'); </script>\n",
    "    metatag = soup.new_tag('script')\n",
    "    metatag.string = \"window.dataLayer = window.dataLayer || [];function gtag(){dataLayer.push(arguments);} gtag('js', new Date());gtag('config', 'G-KSWG418LQL');\"\n",
    "    soup.head.append(metatag)\n",
    "    \n",
    "    structure = soup.new_tag('script')\n",
    "    structure.string = (\n",
    "        '{'\n",
    "          '\"@context\": \"https://schema.org\",'\n",
    "          '\"@type\": \"Article\",'\n",
    "          '\"mainEntityOfPage\": {'\n",
    "            '\"@type\": \"WebPage\",'\n",
    "            f'\"@id\": \"{url}\"'\n",
    "          '},'\n",
    "          f'\"headline\": \"{title}\",'\n",
    "          f'\"description\": \"{desc}\",'\n",
    "          '\"image\": \"https://bayesmanual.com/plot.png\",'  \n",
    "          '\"author\": {'\n",
    "            '\"@type\": \"Person\",'\n",
    "            '\"name\": \"Ryan Lowe\"'\n",
    "          '},'  \n",
    "          '\"publisher\": {'\n",
    "            '\"@type\": \"Organization\",'\n",
    "            '\"name\": \"Eigenbooks Ltd\",'\n",
    "            '\"logo\": {'\n",
    "              '\"@type\": \"ImageObject\",'\n",
    "              '\"url\": \"\"'\n",
    "            '}'\n",
    "          '},'\n",
    "          '\"datePublished\": \"2021-03-15\",'\n",
    "          f'\"dateModified\": \"{today}\"'\n",
    "        '}'\n",
    "    )\n",
    "\n",
    "    structure.attrs['type'] = 'application/ld+json'\n",
    "    soup.head.append(structure)\n"
   ]
  },
  {
   "cell_type": "markdown",
   "id": "partial-mother",
   "metadata": {},
   "source": [
    "## Navigate to HTML directory"
   ]
  },
  {
   "cell_type": "code",
   "execution_count": 6,
   "id": "czech-springer",
   "metadata": {},
   "outputs": [
    {
     "name": "stdout",
     "output_type": "stream",
     "text": [
      ".buildinfo\n",
      "appendix-theory.html\n",
      "conclusion.html\n",
      "genindex.html\n",
      "index.html\n",
      "math-prereq.html\n",
      "motivating-example.html\n",
      "objects.inv\n",
      "plot.png\n",
      "robots.txt\n",
      "search.html\n",
      "searchindex.js\n",
      "sitemap.xml\n",
      "solution-process.html\n",
      "worked-examples.html\n"
     ]
    }
   ],
   "source": [
    "os.chdir('book/_build/html')\n",
    "files = [f for f in os.listdir('.') if os.path.isfile(f)]\n",
    "for f in files:\n",
    "    print(f)"
   ]
  },
  {
   "cell_type": "markdown",
   "id": "sexual-lobby",
   "metadata": {},
   "source": [
    "## index.html"
   ]
  },
  {
   "cell_type": "code",
   "execution_count": null,
   "id": "academic-editing",
   "metadata": {},
   "outputs": [],
   "source": [
    "with open(\"index.html\") as fp:\n",
    "    soup = BeautifulSoup(fp, 'html.parser')"
   ]
  },
  {
   "cell_type": "code",
   "execution_count": null,
   "id": "proprietary-literacy",
   "metadata": {},
   "outputs": [],
   "source": [
    "# for debugging, it seems that writing the file breaks the html\n",
    "with open(\"index.html\",\"w\", encoding = \"utf-8\") as fp:\n",
    "     fp.write(str(soup.prettify()))"
   ]
  },
  {
   "cell_type": "code",
   "execution_count": null,
   "id": "authorized-wedding",
   "metadata": {},
   "outputs": [],
   "source": [
    "title = \"Introduction: Bayes Theorem - The Missing Manual\"\n",
    "desc = 'A manual for using Bayes theorem to think with probabilities in everyday life. Welcome to the missing manual for Bayes theorem users. This manual is designed to provide documentation for people who use - or want to use - Bayes theorem on a day-to-day basis. It covers a small subset of Bayesian statistics that the author feels are disproportionately helpful for solving real world problems quickly with mental math in your head. '\n",
    "url = 'https://bayesmanual.com/index.html'\n",
    "cleanUpTags()\n",
    "makeNewTags()\n",
    "    \n",
    "with open(\"index.html\",\"w\", encoding = \"utf-8\") as fp:\n",
    "     fp.write(str(soup.prettify()))\n",
    "    "
   ]
  },
  {
   "cell_type": "markdown",
   "id": "vulnerable-determination",
   "metadata": {},
   "source": [
    "## motivating-example.html\n"
   ]
  },
  {
   "cell_type": "code",
   "execution_count": null,
   "id": "skilled-tomato",
   "metadata": {},
   "outputs": [],
   "source": [
    "with open(\"motivating-example.html\") as fp:\n",
    "    soup = BeautifulSoup(fp, 'html.parser')\n",
    "    \n",
    "title = \"Motivating Example: Bayes Theorem - The Missing Manual\"\n",
    "desc = 'A motivating example for using Bayes theorem to solve practical problems. This example is provided in narrative form to introduce the idea of Bayes theorem. Later in the manual the worked examples chapter shows how to apply Bayes theorem to 20+ problems using the standard solution process.'\n",
    "url = 'https://bayesmanual.com/motivating-example.html'\n",
    "cleanUpTags()\n",
    "makeNewTags()\n",
    "    \n",
    "with open(\"motivating-example.html\",\"w\", encoding = \"utf-8\") as fp:\n",
    "    fp.write(str(soup.prettify()))\n",
    "    \n",
    "    "
   ]
  },
  {
   "cell_type": "markdown",
   "id": "handed-replacement",
   "metadata": {},
   "source": [
    "## math-prereq.html"
   ]
  },
  {
   "cell_type": "code",
   "execution_count": null,
   "id": "designing-richards",
   "metadata": {},
   "outputs": [],
   "source": [
    "with open(\"math-prereq.html\") as fp:\n",
    "    soup = BeautifulSoup(fp, 'html.parser')\n",
    "    \n",
    "title = \"Mathematical Prerequisites: Bayes Theorem - The Missing Manual\"\n",
    "desc = 'To be successful using this manual you need to have a strong understand of two key prerequisite concepts:Relative odds and Rough order of magnitude estimates. Relative odds are a way of quantifying your beliefs. Relative odds are similar to probability, but more user friendly. Rough order of magnitude estimates are a fancy way of making an educated guess. '\n",
    "url = 'https://bayesmanual.com/math-prereq.html'\n",
    "cleanUpTags()\n",
    "makeNewTags()\n",
    "    \n",
    "with open(\"math-prereq.html\",\"w\", encoding = \"utf-8\") as fp:\n",
    "    fp.write(str(soup.prettify()))"
   ]
  },
  {
   "cell_type": "markdown",
   "id": "integrated-boundary",
   "metadata": {},
   "source": [
    "## solution-process.html"
   ]
  },
  {
   "cell_type": "code",
   "execution_count": null,
   "id": "hollywood-arcade",
   "metadata": {},
   "outputs": [],
   "source": [
    "with open(\"solution-process.html\") as fp:\n",
    "    soup = BeautifulSoup(fp, 'html.parser')\n",
    "    \n",
    "title = \"Solution Process: Bayes Theorem - The Missing Manual\"\n",
    "desc = 'To illustrate the process for solving problems with Bayes theorem we will pick a problem that has convenient round looking numbers to make things easy. There are many ways to solve problems, but for the sake of consistency we will use this standard approach over and over in this manual.'\n",
    "url = 'https://bayesmanual.com/solution-process.html'\n",
    "cleanUpTags()\n",
    "makeNewTags()\n",
    "    \n",
    "with open(\"solution-process.html\",\"w\", encoding = \"utf-8\") as fp:\n",
    "    fp.write(str(soup.prettify()))"
   ]
  },
  {
   "cell_type": "markdown",
   "id": "presidential-software",
   "metadata": {},
   "source": [
    "## worked-examples.html"
   ]
  },
  {
   "cell_type": "code",
   "execution_count": null,
   "id": "horizontal-modeling",
   "metadata": {},
   "outputs": [],
   "source": [
    "fn = 'worked-examples.html'\n",
    "with open(fn) as fp:\n",
    "    soup = BeautifulSoup(fp, 'html.parser')\n",
    "    \n",
    "title = \"Example Problems: Bayes Theorem - The Missing Manual\"\n",
    "desc = 'This section contains a number of example problems solved using Bayes theorem, and commentary about the problem. The standard solution process is used to solve each problem.'\n",
    "url = f'https://bayesmanual.com/{fn}'\n",
    "cleanUpTags()\n",
    "makeNewTags()\n",
    "    \n",
    "with open(fn,\"w\", encoding = \"utf-8\") as fp:\n",
    "    fp.write(str(soup.prettify()))"
   ]
  },
  {
   "cell_type": "markdown",
   "id": "cosmetic-responsibility",
   "metadata": {},
   "source": [
    "## conclusion.html"
   ]
  },
  {
   "cell_type": "code",
   "execution_count": null,
   "id": "mature-shame",
   "metadata": {},
   "outputs": [],
   "source": [
    "fn = 'conclusion.html'\n",
    "with open(fn) as fp:\n",
    "    soup = BeautifulSoup(fp, 'html.parser')\n",
    "    \n",
    "title = \"Conclusion: Bayes Theorem - The Missing Manual\"\n",
    "desc = 'Bayes theorem is a powerful and complex tool for reasoning about the world around us. In this manual a very narrow, but generally useful, approach has been presented. Then the singular solution process was applied repeatedly to many example problems.'\n",
    "url = f'https://bayesmanual.com/{fn}'\n",
    "cleanUpTags()\n",
    "makeNewTags()\n",
    "    \n",
    "with open(fn,\"w\", encoding = \"utf-8\") as fp:\n",
    "    fp.write(str(soup.prettify()))"
   ]
  },
  {
   "cell_type": "markdown",
   "id": "complex-authorization",
   "metadata": {},
   "source": [
    "## appendix-theory.html"
   ]
  },
  {
   "cell_type": "code",
   "execution_count": null,
   "id": "clear-hardwood",
   "metadata": {},
   "outputs": [],
   "source": [
    "fn = 'appendix-theory.html'\n",
    "with open(fn) as fp:\n",
    "    soup = BeautifulSoup(fp, 'html.parser')\n",
    "    \n",
    "title = \"Conclusion: Bayes Theorem - The Missing Manual\"\n",
    "desc = 'Derivation of Bayes theorem in the probability and odds form, disambiguation of the language we use for probability and statistics, examples of using Bayes theorem for parameter estimation.'\n",
    "url = f'https://bayesmanual.com/{fn}'\n",
    "cleanUpTags()\n",
    "makeNewTags()\n",
    "    \n",
    "with open(fn,\"w\", encoding = \"utf-8\") as fp:\n",
    "    fp.write(str(soup.prettify()))"
   ]
  },
  {
   "cell_type": "markdown",
   "id": "pregnant-wayne",
   "metadata": {},
   "source": [
    "## sitemap.xml"
   ]
  },
  {
   "cell_type": "code",
   "execution_count": null,
   "id": "unlimited-authorization",
   "metadata": {},
   "outputs": [],
   "source": [
    "fn = \"sitemap.xml\"\n",
    "with open(fn) as fp:\n",
    "    soup = BeautifulSoup(fp, 'html.parser')\n",
    "\n",
    "# update last modified date to today\n",
    "tags = soup.find_all('lastmod')\n",
    "for tag in tags:\n",
    "    tag.string.replace_with(f'{today}')\n",
    "\n",
    "with open(fn,\"w\", encoding = \"utf-8\") as fp:\n",
    "    fp.write(str(soup.prettify()))"
   ]
  },
  {
   "cell_type": "markdown",
   "id": "dense-patient",
   "metadata": {},
   "source": [
    "## Debug"
   ]
  },
  {
   "cell_type": "code",
   "execution_count": null,
   "id": "variable-burns",
   "metadata": {},
   "outputs": [],
   "source": [
    "with open(\"index.html\") as fp:\n",
    "    soup = BeautifulSoup(fp, 'html.parser')"
   ]
  },
  {
   "cell_type": "code",
   "execution_count": null,
   "id": "prime-sector",
   "metadata": {},
   "outputs": [],
   "source": [
    "# meta_tags = soup.find_all('meta', property=True)\n",
    "\n",
    "# # remove meta tags with a property attribute\n",
    "# for tag in meta_tags:\n",
    "#     print(tag)\n",
    "#     tag.decompose()"
   ]
  },
  {
   "cell_type": "code",
   "execution_count": null,
   "id": "legislative-cookbook",
   "metadata": {},
   "outputs": [],
   "source": []
  },
  {
   "cell_type": "code",
   "execution_count": null,
   "id": "diverse-decade",
   "metadata": {},
   "outputs": [],
   "source": []
  }
 ],
 "metadata": {
  "kernelspec": {
   "display_name": "Python 3",
   "language": "python",
   "name": "python3"
  },
  "language_info": {
   "codemirror_mode": {
    "name": "ipython",
    "version": 3
   },
   "file_extension": ".py",
   "mimetype": "text/x-python",
   "name": "python",
   "nbconvert_exporter": "python",
   "pygments_lexer": "ipython3",
   "version": "3.8.7"
  }
 },
 "nbformat": 4,
 "nbformat_minor": 5
}
